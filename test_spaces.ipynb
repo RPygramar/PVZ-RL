{
 "cells": [
  {
   "cell_type": "code",
   "execution_count": 1,
   "metadata": {},
   "outputs": [],
   "source": [
    "# !pip install gymnasium\n",
    "\n",
    "import gymnasium as gym\n",
    "from gymnasium.utils.env_checker import check_env"
   ]
  },
  {
   "cell_type": "code",
   "execution_count": 2,
   "metadata": {},
   "outputs": [
    {
     "name": "stdout",
     "output_type": "stream",
     "text": [
      "Box(0, [  45 2000   45   45 1000], (5,), int32)\n"
     ]
    }
   ],
   "source": [
    "from pvz_env import GameEnv\n",
    "\n",
    "env = GameEnv()"
   ]
  },
  {
   "cell_type": "code",
   "execution_count": 3,
   "metadata": {},
   "outputs": [
    {
     "data": {
      "text/plain": [
       "mappingproxy({'__module__': 'pvz_env',\n",
       "              'metadata': {'render_modes': ['human'], 'render_fps': 30},\n",
       "              '__init__': <function pvz_env.GameEnv.__init__(self, grid_rows=9, grid_cols=5, render_mode=None)>,\n",
       "              'reset': <function pvz_env.GameEnv.reset(self, seed=None, options=None)>,\n",
       "              'step': <function pvz_env.GameEnv.step(self, action)>,\n",
       "              'render': <function pvz_env.GameEnv.render(self)>,\n",
       "              'encode_plants': <function pvz_env.GameEnv.encode_plants(self, plants)>,\n",
       "              '__doc__': None,\n",
       "              '__parameters__': ()})"
      ]
     },
     "execution_count": 3,
     "metadata": {},
     "output_type": "execute_result"
    }
   ],
   "source": [
    "env.__class__.__dict__"
   ]
  },
  {
   "cell_type": "code",
   "execution_count": 4,
   "metadata": {},
   "outputs": [
    {
     "name": "stdout",
     "output_type": "stream",
     "text": [
      "encode: []\n",
      "plants :[]\n",
      "pos: [0 0]\n",
      "zombies : [0]\n",
      "[] [5000] [0 0] [0]\n",
      "obs:  [5000    0    0    0]\n"
     ]
    },
    {
     "data": {
      "text/plain": [
       "(array([5000,    0,    0,    0], dtype=int32), {})"
      ]
     },
     "execution_count": 4,
     "metadata": {},
     "output_type": "execute_result"
    }
   ],
   "source": [
    "# Here the size of the obs space is (4,)\n",
    "env.reset()"
   ]
  },
  {
   "cell_type": "markdown",
   "metadata": {},
   "source": [
    "Here is the problem: pos(ition) is a two element array. That's why in the step action you have 5 elements since you are concatenating\n"
   ]
  },
  {
   "cell_type": "code",
   "execution_count": 5,
   "metadata": {},
   "outputs": [
    {
     "data": {
      "text/plain": [
       "Discrete(7)"
      ]
     },
     "execution_count": 5,
     "metadata": {},
     "output_type": "execute_result"
    }
   ],
   "source": [
    "env.action_space"
   ]
  },
  {
   "cell_type": "code",
   "execution_count": 6,
   "metadata": {},
   "outputs": [
    {
     "data": {
      "text/plain": [
       "array([  23, 1474,    8,   44,  720], dtype=int32)"
      ]
     },
     "execution_count": 6,
     "metadata": {},
     "output_type": "execute_result"
    }
   ],
   "source": [
    "# This is how they observation space should look like\n",
    "env.observation_space.sample()\n",
    "# The output means that there are 4 boxes?"
   ]
  },
  {
   "cell_type": "code",
   "execution_count": 7,
   "metadata": {},
   "outputs": [
    {
     "name": "stdout",
     "output_type": "stream",
     "text": [
      "reward:  0\n"
     ]
    },
    {
     "data": {
      "text/plain": [
       "(array([5000,    0,    0,    0], dtype=int32), 0, False, False, {})"
      ]
     },
     "execution_count": 7,
     "metadata": {},
     "output_type": "execute_result"
    }
   ],
   "source": [
    "# the output type is an array of size 4\n",
    "# Here the output of the obs after applying the action is (5,)\n",
    "env.step(action=env.action_space.sample())"
   ]
  },
  {
   "cell_type": "code",
   "execution_count": 8,
   "metadata": {},
   "outputs": [],
   "source": [
    "import numpy as np"
   ]
  },
  {
   "cell_type": "code",
   "execution_count": 9,
   "metadata": {},
   "outputs": [
    {
     "data": {
      "text/plain": [
       "array([1, 2, 3, 3, 4])"
      ]
     },
     "execution_count": 9,
     "metadata": {},
     "output_type": "execute_result"
    }
   ],
   "source": [
    "np.concatenate(([1], [2], [3], [3, 4]))"
   ]
  },
  {
   "cell_type": "code",
   "execution_count": null,
   "metadata": {},
   "outputs": [],
   "source": []
  },
  {
   "cell_type": "code",
   "execution_count": null,
   "metadata": {},
   "outputs": [],
   "source": []
  }
 ],
 "metadata": {
  "kernelspec": {
   "display_name": "Python 3",
   "language": "python",
   "name": "python3"
  },
  "language_info": {
   "codemirror_mode": {
    "name": "ipython",
    "version": 3
   },
   "file_extension": ".py",
   "mimetype": "text/x-python",
   "name": "python",
   "nbconvert_exporter": "python",
   "pygments_lexer": "ipython3",
   "version": "3.10.13"
  }
 },
 "nbformat": 4,
 "nbformat_minor": 2
}
